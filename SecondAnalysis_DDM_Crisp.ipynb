{
 "cells": [
  {
   "cell_type": "code",
   "execution_count": null,
   "metadata": {},
   "outputs": [],
   "source": [
    "!cutadapt  -g TTATATATCTTGTGGAAAGGA -a GTTTT -o LibA_trimmed.fastq Lib_DDM-A_S1_R1_001.fastq.gz  -n 1 >report_cutadaptLibA.txt"
   ]
  },
  {
   "cell_type": "code",
   "execution_count": null,
   "metadata": {},
   "outputs": [],
   "source": [
    "!cutadapt  -g TTATATATCTTGTGGAAAGGA -a GTTTT -o LibB_trimmed.fastq Lib_DDM-B_S2_R1_001.fastq.gz  -n 1 >report_cutadaptLibB.txt"
   ]
  },
  {
   "cell_type": "code",
   "execution_count": 157,
   "metadata": {},
   "outputs": [],
   "source": [
    "!fastqsplitter -i LibA_trimmed.fastq -o LibA_trimmed_1.fastq -o LibA_trimmed_2.fastq -o LibA_trimmed_3.fastq -o LibA_trimmed_4.fastq -o LibA_trimmed_5.fastq -t 30"
   ]
  },
  {
   "cell_type": "code",
   "execution_count": null,
   "metadata": {},
   "outputs": [],
   "source": [
    "!fastqsplitter -i LibB_trimmed.fastq -o LibB_trimmed_1.fastq -o LibB_trimmed_2.fastq -o LibB_trimmed_3.fastq -o LibB_trimmed_4.fastq -o LibB_trimmed_5.fastq -t 30"
   ]
  },
  {
   "cell_type": "code",
   "execution_count": null,
   "metadata": {},
   "outputs": [],
   "source": [
    "python count_spacers.py -f LibA_trimmed_1.fastq -o LibA_trimmed -i LibA.csv -n 1 > logA_1.txt &\n",
    "python count_spacers.py -f LibA_trimmed_2.fastq -o LibA_trimmed -i LibA.csv -n 2 > logA_2.txt &\n",
    "python count_spacers.py -f LibA_trimmed_3.fastq -o LibA_trimmed -i LibA.csv -n 3 > logA_3.txt &\n",
    "python count_spacers.py -f LibA_trimmed_4.fastq -o LibA_trimmed -i LibA.csv -n 4 > logA_4.txt &\n",
    "python count_spacers.py -f LibA_trimmed_5.fastq -o LibA_trimmed -i LibA.csv -n 5 > logA_5.txt &"
   ]
  },
  {
   "cell_type": "code",
   "execution_count": null,
   "metadata": {},
   "outputs": [],
   "source": [
    "python count_spacers.py -f LibB_trimmed_1.fastq -o LibA_trimmed -i LibB.csv -n 1 > logB_1.tx &\n",
    "python count_spacers.py -f LibB_trimmed_2.fastq -o LibA_trimmed -i LibB.csv -n 2 > logB_2.tx &\n",
    "python count_spacers.py -f LibB_trimmed_3.fastq -o LibA_trimmed -i LibB.csv -n 3 > logB_3.tx &\n",
    "python count_spacers.py -f LibB_trimmed_4.fastq -o LibA_trimmed -i LibB.csv -n 4 > logB_4.tx &\n",
    "python count_spacers.py -f LibB_trimmed_5.fastq -o LibA_trimmed -i LibB.csv -n 5 > logB_5.tx &"
   ]
  }
 ],
 "metadata": {
  "kernelspec": {
   "display_name": "Python 3",
   "language": "python",
   "name": "python3"
  },
  "language_info": {
   "codemirror_mode": {
    "name": "ipython",
    "version": 3
   },
   "file_extension": ".py",
   "mimetype": "text/x-python",
   "name": "python",
   "nbconvert_exporter": "python",
   "pygments_lexer": "ipython3",
   "version": "3.7.6"
  }
 },
 "nbformat": 4,
 "nbformat_minor": 2
}
